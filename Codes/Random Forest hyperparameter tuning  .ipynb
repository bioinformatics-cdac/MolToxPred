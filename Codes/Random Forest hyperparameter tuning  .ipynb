{
 "cells": [
  {
   "cell_type": "code",
   "execution_count": null,
   "id": "6ccfdd6b",
   "metadata": {},
   "outputs": [],
   "source": [
    "from hyperopt import hp,fmin,tpe,STATUS_OK,Trials\n",
    "import pandas as pd\n",
    "import numpy as np\n",
    "from sklearn.model_selection import train_test_split\n",
    "from sklearn.ensemble import RandomForestClassifier\n",
    "import seaborn as sns\n",
    "import time\n",
    "import sklearn.metrics as metrics\n",
    "import matplotlib.pyplot as plt\n",
    "from sklearn.metrics import classification_report, confusion_matrix\n",
    "from sklearn.metrics import roc_auc_score, roc_curve,accuracy_score,log_loss\n",
    "from sklearn.model_selection import GridSearchCV,cross_val_score\n",
    "from sklearn.model_selection import train_test_split,StratifiedKFold\n",
    "from sklearn.metrics import roc_auc_score, roc_curve,accuracy_score,log_loss\n",
    "from sklearn.metrics import precision_recall_curve,average_precision_score\n",
    "from sklearn.metrics import classification_report, confusion_matrix, ConfusionMatrixDisplay,balanced_accuracy_score,accuracy_score"
   ]
  },
  {
   "cell_type": "code",
   "execution_count": null,
   "id": "77b8c6ac",
   "metadata": {},
   "outputs": [],
   "source": [
    "%%time\n",
    "df=pd.read_csv(\"/home/anjali/Desktop/MolTox/statistical_correction/bonferroni/train_test_data_10449_bonferroni.csv\")"
   ]
  },
  {
   "cell_type": "code",
   "execution_count": null,
   "id": "f77478e8",
   "metadata": {},
   "outputs": [],
   "source": [
    "df.replace([np.inf, -np.inf], np.nan, inplace=True)\n",
    "df=df.fillna(0)"
   ]
  },
  {
   "cell_type": "code",
   "execution_count": null,
   "id": "d27ae6e3",
   "metadata": {},
   "outputs": [],
   "source": [
    "y=df['Toxicity']\n",
    "X=df.drop(['Toxicity'],axis=1)\n",
    "np.random.seed(42)\n",
    "X_train, X_test, y_train, y_test = train_test_split(X, y, test_size=0.2, random_state=42)"
   ]
  },
  {
   "cell_type": "code",
   "execution_count": null,
   "id": "eeeb2be2",
   "metadata": {},
   "outputs": [],
   "source": [
    "from sklearn.preprocessing import StandardScaler\n",
    "\n",
    "# Select only the numerical columns\n",
    "numerical_columns = X.columns[(X.dtypes == 'float64') & (X.columns != 'IPC')]\n",
    "\n",
    "# Create a DataFrame with only the numerical columns\n",
    "numerical_X = X[numerical_columns]\n",
    "\n",
    "# Initialize the StandardScaler\n",
    "scaler = StandardScaler()\n",
    "\n",
    "# Fit the scaler on the numerical data and transform it for the train set\n",
    "scaled_numerical_X_train = scaler.fit_transform(numerical_X.loc[X_train.index])\n",
    "\n",
    "# Replace the scaled numerical data back into the original DataFrame for the train set\n",
    "X.loc[X_train.index, numerical_columns] = scaled_numerical_X_train\n",
    "\n",
    "# Transform the numerical data for the test set\n",
    "scaled_numerical_X_test = scaler.transform(numerical_X.loc[X_test.index])\n",
    "\n",
    "# Replace the scaled numerical data back into the original DataFrame for the test set\n",
    "X.loc[X_test.index, numerical_columns] = scaled_numerical_X_test\n",
    "\n"
   ]
  },
  {
   "cell_type": "code",
   "execution_count": null,
   "id": "9a14fc34",
   "metadata": {},
   "outputs": [],
   "source": [
    "df=pd.concat([X,y],axis=1)\n",
    "X_train, X_test, y_train, y_test = train_test_split(X, y, test_size=0.2, random_state=42)\n",
    "train,test=train_test_split(df,test_size=0.20,random_state=42)"
   ]
  },
  {
   "cell_type": "markdown",
   "id": "5117e5a2",
   "metadata": {},
   "source": [
    "## Hyperparameter Tuning"
   ]
  },
  {
   "cell_type": "code",
   "execution_count": null,
   "id": "0838fbf6",
   "metadata": {},
   "outputs": [],
   "source": [
    "from hyperopt import hp, fmin, tpe, STATUS_OK, Trials,rand\n",
    "%time\n",
    "\n",
    "space = {\n",
    "    'criterion': hp.choice('criterion', ['entropy', 'gini']),\n",
    "    'max_depth': hp.randint('max_depth', 6,13),  # Expanded range for max_depth\n",
    "    'min_samples_leaf': hp.randint('min_samples_leaf', 1, 200),  # Expanded range for min_samples_leaf\n",
    "    'min_samples_split': hp.randint('min_samples_split', 2, 56),  # Expanded range for min_samples_split\n",
    "    'n_estimators': hp.choice('n_estimators', [50,75, 100, 125,100, 200, 300, 500])\n",
    "}\n",
    "\n",
    "\n",
    "def objective(space,random_seed=6):\n",
    "    model = RandomForestClassifier(criterion = space['criterion'], \n",
    "                                   max_depth = space['max_depth'],\n",
    "                                 min_samples_leaf = space['min_samples_leaf'],\n",
    "                                 min_samples_split = space['min_samples_split'],\n",
    "                                 n_estimators = space['n_estimators'],\n",
    "                                class_weight='balanced', random_state=200)\n",
    "    \n",
    "    accuracy = cross_val_score(model, X_train, y_train, cv = 5).mean()\n",
    "    \n",
    "\n",
    "    # We aim to maximize accuracy, therefore we return it as a negative value\n",
    "    return {'loss': -accuracy, 'status': STATUS_OK }\n",
    "    \n",
    "trials = Trials()\n",
    "best = fmin(fn= objective,\n",
    "            space= space,\n",
    "            algo= tpe.suggest,\n",
    "            max_evals = 10,\n",
    "            trials= trials,\n",
    "           return_argmin=False,\n",
    "        \n",
    "           rstate = np.random.default_rng(42))\n",
    "best"
   ]
  },
  {
   "cell_type": "code",
   "execution_count": null,
   "id": "38592c45",
   "metadata": {},
   "outputs": [],
   "source": [
    "best"
   ]
  },
  {
   "cell_type": "code",
   "execution_count": null,
   "id": "d44f18c4",
   "metadata": {},
   "outputs": [],
   "source": []
  }
 ],
 "metadata": {
  "kernelspec": {
   "display_name": "Python 3 (ipykernel)",
   "language": "python",
   "name": "python3"
  },
  "language_info": {
   "codemirror_mode": {
    "name": "ipython",
    "version": 3
   },
   "file_extension": ".py",
   "mimetype": "text/x-python",
   "name": "python",
   "nbconvert_exporter": "python",
   "pygments_lexer": "ipython3",
   "version": "3.9.12"
  }
 },
 "nbformat": 4,
 "nbformat_minor": 5
}
